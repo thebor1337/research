{
 "cells": [
  {
   "cell_type": "code",
   "execution_count": 38,
   "metadata": {},
   "outputs": [],
   "source": [
    "import galois\n",
    "import numpy as np"
   ]
  },
  {
   "cell_type": "markdown",
   "metadata": {},
   "source": [
    "### R1CS"
   ]
  },
  {
   "cell_type": "code",
   "execution_count": 39,
   "metadata": {},
   "outputs": [],
   "source": [
    "p = 71\n",
    "FP = galois.GF(p)"
   ]
  },
  {
   "cell_type": "markdown",
   "metadata": {},
   "source": [
    "Witness vector:\n",
    "\n",
    "$s = \\left\\langle s_i \\right\\rangle_{[m]}\\\\$\n",
    "\n",
    "$ \\color{Green}L \\color{defaultcolor}= \\begin{bmatrix}\n",
    "& \\color{Cyan} s_0 & \\color{Cyan} s_1 & \\cdots  & \\color{Cyan} s_{m-1} \\\\\n",
    "\\color{Cyan} (1) & l_{0,0} & l_{0, 1} & \\cdots & l_{0, m-1} \\\\\n",
    "\\color{Cyan} (2) & l_{1,0} & l_{1, 1} & \\cdots & l_{1, m-1} \\\\\n",
    "\\color{Cyan} \\vdots & & & \\ddots & \\\\\n",
    "\\color{Cyan} (d) & l_{d-1,0} & l_{0, 1} & \\cdots & l_{d-1, m-1} \\\\\n",
    "\\end{bmatrix} \\\\$\n",
    "\n",
    "$ \\color{Yellow}R \\color{defaultcolor}= \\begin{bmatrix}\n",
    "& \\color{Cyan} s_0 & \\color{Cyan} s_1 & \\cdots  & \\color{Cyan} s_{m-1} \\\\\n",
    "\\color{Cyan} (1) & r_{0,0} & r_{0, 1} & \\cdots & r_{0, m-1} \\\\\n",
    "\\color{Cyan} (2) & r_{1,0} & r_{1, 1} & \\cdots & r_{1, m-1} \\\\\n",
    "\\color{Cyan} \\vdots & & & \\ddots & \\\\\n",
    "\\color{Cyan} (d) & r_{d-1,0} & r_{0, 1} & \\cdots & r_{d-1, m-1} \\\\\n",
    "\\end{bmatrix} \\\\$\n",
    "\n",
    "$ \\color{Red}O \\color{defaultcolor}= \\begin{bmatrix}\n",
    "& \\color{Cyan} s_0 & \\color{Cyan} s_1 & \\cdots  & \\color{Cyan} s_{m-1} \\\\\n",
    "\\color{Cyan} (1) & o_{0,0} & o_{0, 1} & \\cdots & o_{0, m-1} \\\\\n",
    "\\color{Cyan} (2) & o_{1,0} & o_{1, 1} & \\cdots & o_{1, m-1} \\\\\n",
    "\\color{Cyan} \\vdots & & & \\ddots & \\\\\n",
    "\\color{Cyan} (d) & o_{d-1,0} & o_{0, 1} & \\cdots & o_{d-1, m-1} \\\\\n",
    "\\end{bmatrix} \\\\$\n",
    "\n",
    "Matrices serve as encodings for triggers or switches, activating computations for specific variables."
   ]
  },
  {
   "cell_type": "markdown",
   "metadata": {},
   "source": [
    "Example:\n",
    "\n",
    "Original equation:\n",
    "\n",
    "$ 5x^{3} - 4x^{2}y^{2} + 13xy^{2} + x^{2} -10y = out $\n",
    "\n",
    "Constraints:\n",
    "\n",
    "$\\left\\{ \\begin{array}{cl}\n",
    "\\color{Red}v_1 \\color{defaultcolor} = \\color{Green} x \\color{Yellow}x & \\color{Cyan}(1)\\\\\n",
    "\\color{Red}v_2 \\color{defaultcolor} = \\color{Green} y \\color{Yellow}y & \\color{Cyan}(2)\\\\\n",
    "\\color{Red}v_3 \\color{defaultcolor} = \\color{Green} 5x \\color{Yellow}v_1 & \\color{Cyan}(3)\\\\\n",
    "\\color{Red}v_4 \\color{defaultcolor} = \\color{Green} 4v_1 \\color{Yellow}v_2 & \\color{Cyan}(4)\\\\\n",
    "\\color{Red} out -v_3 + v_4 - v_1 + 10y \\color{defaultcolor} = \\color{Green}13x \\color{Yellow}v_2 & \\color{Cyan}(5)\n",
    "\\end{array} \\right.\\\\$\n",
    "\n",
    "$ s = \\begin{bmatrix}\n",
    "\\color{Cyan} 1 & \\color{Cyan} out & \\color{Cyan} x & \\color{Cyan} y & \\color{Cyan} v_1 & \\color{Cyan} v_2 & \\color{Cyan} v_3 & \\color{Cyan} v_4 \\\\\n",
    "1 & 33 & 2 & 3 & 4 & 9 & 40 & 2\n",
    "\\end{bmatrix} \\\\ $\n",
    "\n",
    "$ \\color{Green}L \\color{defaultcolor}= \\begin{bmatrix}\n",
    "& \\color{Cyan} 1 & \\color{Cyan} out & \\color{Cyan} x & \\color{Cyan} y & \\color{Cyan} v_1 & \\color{Cyan} v_2 & \\color{Cyan} v_3 & \\color{Cyan} v_4 \\\\\n",
    "\\color{Cyan} (1) & 0 & 0 & 1 & 0 & 0 & 0 & 0 & 0 \\\\\n",
    "\\color{Cyan} (2) & 0 & 0 & 0 & 1 & 0 & 0 & 0 & 0 \\\\\n",
    "\\color{Cyan} (3) & 0 & 0 & 5 & 0 & 0 & 0 & 0 & 0 \\\\\n",
    "\\color{Cyan} (4) & 0 & 0 & 0 & 0 & 4 & 0 & 0 & 0 \\\\\n",
    "\\color{Cyan} (5) & 0 & 0 & 13 & 0 & 0 & 0 & 0 & 0 \\\\\n",
    "\\end{bmatrix} \\\\ $\n",
    "\n",
    "$ \\color{Yellow}R \\color{defaultcolor}= \\begin{bmatrix}\n",
    "& \\color{Cyan} 1 & \\color{Cyan} out & \\color{Cyan} x & \\color{Cyan} y & \\color{Cyan} v_1 & \\color{Cyan} v_2 & \\color{Cyan} v_3 & \\color{Cyan} v_4 \\\\\n",
    "\\color{Cyan} (1) & 0 & 0 & 1 & 0 & 0 & 0 & 0 & 0 \\\\\n",
    "\\color{Cyan} (2) & 0 & 0 & 0 & 1 & 0 & 0 & 0 & 0 \\\\\n",
    "\\color{Cyan} (3) & 0 & 0 & 0 & 0 & 1 & 0 & 0 & 0 \\\\\n",
    "\\color{Cyan} (4) & 0 & 0 & 0 & 0 & 0 & 1 & 0 & 0 \\\\\n",
    "\\color{Cyan} (5) & 0 & 0 & 0 & 0 & 0 & 1 & 0 & 0 \\\\\n",
    "\\end{bmatrix} \\\\ $\n",
    "\n",
    "$ \\color{Red}O \\color{defaultcolor} = \\begin{bmatrix}\n",
    "& \\color{Cyan} 1 & \\color{Cyan} out & \\color{Cyan} x & \\color{Cyan} y & \\color{Cyan} v_1 & \\color{Cyan} v_2 & \\color{Cyan} v_3 & \\color{Cyan} v_4 \\\\\n",
    "\\color{Cyan} (1) & 0 & 0 & 0 & 0 & 1 & 0 & 0 & 0 \\\\\n",
    "\\color{Cyan} (2) & 0 & 0 & 0 & 0 & 0 & 1 & 0 & 0 \\\\\n",
    "\\color{Cyan} (3) & 0 & 0 & 0 & 0 & 0 & 0 & 1 & 0 \\\\\n",
    "\\color{Cyan} (4) & 0 & 0 & 0 & 0 & 0 & 0 & 0 & 1 \\\\\n",
    "\\color{Cyan} (5) & 0 & 1 & 0 & 10 & -1 & 0 & -1 & 1 \\\\\n",
    "\\end{bmatrix} \\\\ $"
   ]
  },
  {
   "cell_type": "code",
   "execution_count": 54,
   "metadata": {},
   "outputs": [
    {
     "name": "stdout",
     "output_type": "stream",
     "text": [
      "[ 1 33  2  3  4  9 40  2]\n"
     ]
    }
   ],
   "source": [
    "# inputs\n",
    "x = FP(2)\n",
    "y = FP(3)\n",
    "\n",
    "# witnesses\n",
    "v1 = x * x # (1)\n",
    "v2 = y * y # (2)\n",
    "v3 = 5 * x * v1 # (3)\n",
    "v4 = 4 * v1 * v2 # (4)\n",
    "out = 13 * x * v2 - 10 * y + v1 + v3 - v4 # (5)\n",
    "\n",
    "# check if computed output is correct\n",
    "assert out == 5 * x**3 - 4 * x**2 * y**2 + 13 * x * y**2 + x**2 - 10 * y\n",
    "\n",
    "# witness vector\n",
    "s = FP([1, out, x, y, v1, v2, v3, v4])\n",
    "\n",
    "print(s)\n",
    "\n",
    "L = FP([\n",
    "    # 1, out, x, y, v1, v2, v3, v4\n",
    "    [0, 0,  1, 0, 0, 0, 0, 0], # x\n",
    "    [0, 0,  0, 1, 0, 0, 0, 0], # y\n",
    "    [0, 0,  5, 0, 0, 0, 0, 0], # 5x\n",
    "    [0, 0,  0, 0, 4, 0, 0, 0], # 4v1\n",
    "    [0, 0, 13, 0, 0, 0, 0, 0], # 13x\n",
    "])\n",
    "\n",
    "R = FP([\n",
    "    [0, 0, 1, 0, 0, 0, 0, 0], # x\n",
    "    [0, 0, 0, 1, 0, 0, 0, 0], # y\n",
    "    [0, 0, 0, 0, 1, 0, 0, 0], # v1\n",
    "    [0, 0, 0, 0, 0, 1, 0, 0], # v2\n",
    "    [0, 0, 0, 0, 0, 1, 0, 0], # v2\n",
    "])\n",
    "\n",
    "O = FP([\n",
    "    [0, 0, 0,  0,   1, 0,   0, 0], # v1\n",
    "    [0, 0, 0,  0,   0, 1,   0, 0], # v2\n",
    "    [0, 0, 0,  0,   0, 0,   1, 0], # v3\n",
    "    [0, 0, 0,  0,   0, 0,   0, 1], # v4\n",
    "    [0, 1, 0, 10, p-1, 0, p-1, 1], # out + 10y - v1 - v3 + v4\n",
    "])"
   ]
  },
  {
   "cell_type": "code",
   "execution_count": 44,
   "metadata": {},
   "outputs": [
    {
     "name": "stdout",
     "output_type": "stream",
     "text": [
      "m: 8, d: 5\n"
     ]
    }
   ],
   "source": [
    "# num witnesses\n",
    "m = O.shape[1]\n",
    "# num constraints\n",
    "d = O.shape[0]\n",
    "\n",
    "print(f\"m: {m}, d: {d}\")"
   ]
  },
  {
   "cell_type": "markdown",
   "metadata": {},
   "source": [
    "We use matrices $L, R, O$ as encoded switchers, activators and apply it to the witness vector. As the output we have 1D vector of size $d$ (num of constraints) for every matrix that accumulates all witnesses for every constraint and satisfies:\n",
    "\n",
    "$L_s = \\left\\langle \\sum_{i=0}^{m-1}L_{k, i} * s_i \\right\\rangle_{k\\in\\{0..d-1\\}} \\\\$\n",
    "\n",
    "$R_s = \\left\\langle \\sum_{i=0}^{m-1}R_{k, i} * s_i \\right\\rangle_{k\\in\\{0..d-1\\}}\\\\$\n",
    "\n",
    "$O_s = \\left\\langle \\sum_{i=0}^{m-1}O_{k, i} * s_i \\right\\rangle_{k\\in\\{0..d-1\\}} \\\\$\n",
    "\n",
    "$L_s * R_s = O_s $ must hold\n",
    "\n",
    "$\\begin{bmatrix}\n",
    "L_{s_0} \\\\\n",
    "L_{s_1} \\\\\n",
    "\\vdots  \\\\\n",
    "L_{s_k} \\\\\n",
    "\\end{bmatrix} * \n",
    "\\begin{bmatrix}\n",
    "R_{s_0} \\\\\n",
    "R_{s_1} \\\\\n",
    "\\vdots  \\\\\n",
    "R_{s_k} \\\\\n",
    "\\end{bmatrix} = \n",
    "\\begin{bmatrix}\n",
    "O_{s_0} \\\\\n",
    "O_{s_1} \\\\\n",
    "\\vdots  \\\\\n",
    "O_{s_k} \\\\\n",
    "\\end{bmatrix} \\\\$\n",
    "\n",
    "Example:\n",
    "\n",
    "$\\begin{bmatrix}\n",
    "2 \\\\\n",
    "3 \\\\\n",
    "10 \\\\\n",
    "16 \\\\\n",
    "26 \\\\ \n",
    "\\end{bmatrix} * \n",
    "\\begin{bmatrix}\n",
    "2 \\\\\n",
    "3 \\\\\n",
    "4 \\\\\n",
    "9 \\\\\n",
    "9 \\\\ \n",
    "\\end{bmatrix} = \n",
    "\\begin{bmatrix}\n",
    "4 \\\\\n",
    "9 \\\\\n",
    "40 \\\\\n",
    "2 \\\\\n",
    "21 \\\\ \n",
    "\\end{bmatrix}\n",
    "$"
   ]
  },
  {
   "cell_type": "code",
   "execution_count": 46,
   "metadata": {},
   "outputs": [
    {
     "name": "stdout",
     "output_type": "stream",
     "text": [
      "[ 2  3 10 16 26]\n",
      "[2 3 4 9 9]\n",
      "[ 4  9 40  2 21]\n",
      "[ 4  9 40  2 21]\n"
     ]
    }
   ],
   "source": [
    "Ls = np.dot(L, s)\n",
    "Rs = np.dot(R, s)\n",
    "Os = np.dot(O, s)\n",
    "\n",
    "print(Ls)\n",
    "print(Rs)\n",
    "print(Ls * Rs)\n",
    "print(Os)\n",
    "\n",
    "assert(np.all(Ls * Rs == Os))"
   ]
  },
  {
   "cell_type": "markdown",
   "metadata": {},
   "source": [
    "### R1CS to QAP"
   ]
  },
  {
   "cell_type": "markdown",
   "metadata": {},
   "source": [
    "The goal is to transform R1CS matrices L, R, O into QAP format. We need polynomials $L_p(x)$, $R_p(x)$, $O_p(x)$ for every witness such that it evaluates to the corresponding values of the original matrices at x = 1..d, where d is the number of constraints (or rows in the matrices)\n",
    "\n",
    "$L = \\begin{bmatrix}\n",
    "& \\color{Cyan}s_0 & \\color{Cyan}s_1 & \\cdots & \\color{Cyan}s_{m-1} \\\\\n",
    "\\color{Cyan}(1) & l_{0,0} & l_{0,1} & \\cdots & l_{0, m-1} \\\\\n",
    "\\color{Cyan}(2) & l_{1,0} & l_{1,1} & \\cdots & l_{1, m-1} \\\\\n",
    "\\color{Cyan}\\vdots & & & \\ddots & \\\\\n",
    "\\color{Cyan}(d) & l_{d-1,0} & l_{d-1,1} & \\cdots & l_{d-1, m-1} \\\\\n",
    "\\end{bmatrix} \\\\$\n",
    "\n",
    "$L_p = \\begin{bmatrix}\n",
    "& \\color{Cyan}x^0 & \\color{Cyan}x^1 & \\cdots & \\color{Cyan}x^{d-1} \\\\\n",
    "\\color{Cyan}s_0 & l_{p_{0, 0}} & l_{p_{0, 1}} & \\cdots & l_{p_{0, d-1}} \\\\\n",
    "\\color{Cyan}s_1 & l_{p_{1, 0}} & l_{p_{1, 1}} & \\cdots & l_{p_{1, d-1}} \\\\\n",
    "\\color{Cyan}\\vdots  &  &  & \\ddots &  \\\\\n",
    "\\color{Cyan}s_{m-1} & l_{p_{m-1, 0}} & l_{p_{m-1, 1}} & \\cdots & l_{p_{m-1, d-1}} &\n",
    "\\end{bmatrix} \\\\$\n",
    "\n",
    "$\\left\\langle L_p(x) \\right\\rangle = \\begin{bmatrix}\n",
    "l_{p_{0,0}}x^0 + l_{p_{0, 1}}x^1 + ... + l_{p_{0, d-1}}x^{d-1} \\\\\n",
    "l_{p_{1,0}}x^0 + l_{p_{1, 1}}x^1 + ... + l_{p_{1, d-1}}x^{d-1} \\\\\n",
    "\\vdots \\\\\n",
    "l_{p_{m-1,0}}x^0 + l_{p_{m-1, 1}}x^1 + ... + l_{p_{m-1, d-1}}x^{d-1} \\\\\n",
    "\\end{bmatrix}_{m\\text{x}1} \\\\$\n",
    "\n",
    "$L_p(x) \\to L^T: \\begin{bmatrix}\n",
    "& \\color{Cyan}L_p(1) & \\color{Cyan}L_p(2) & \\color{Cyan}\\cdots & \\color{Cyan}L_p(d) \\\\\n",
    "\\color{Cyan}s_0 & l_{0, 0} & l_{1, 0} & \\cdots & l_{d-1, 0} \\\\\n",
    "\\color{Cyan}s_1 & l_{0, 1} & l_{1, 1} & \\cdots & l_{d-1, 1} \\\\\n",
    "\\color{Cyan}\\vdots & & & \\ddots  & \\\\\n",
    "\\color{Cyan}s_{m-1} & l_{0, m-1} & l_{1, m-1} & \\cdots & l_{d-1, m-1} \\\\\n",
    "\\end{bmatrix}$"
   ]
  },
  {
   "cell_type": "markdown",
   "metadata": {},
   "source": [
    "Example:\n",
    "\n",
    "$ L = \\begin{bmatrix}\n",
    "& \\color{Cyan}1 & \\color{Cyan}out & \\color{Cyan}x & \\color{Cyan}y & \\color{Cyan}v_1 & \\color{Cyan}v_2 & \\color{Cyan}v_3 & \\color{Cyan}v_4 \\\\\n",
    "\\color{Cyan}(1) & 0 & 0 & 1 & 0 & 0 & 0 & 0 & 0 \\\\\n",
    "\\color{Cyan}(2) & 0 & 0 & 0 & 1 & 0 & 0 & 0 & 0 \\\\\n",
    "\\color{Cyan}(3) & 0 & 0 & 5 & 0 & 0 & 0 & 0 & 0 \\\\\n",
    "\\color{Cyan}(4) & 0 & 0 & 0 & 0 & 4 & 0 & 0 & 0 \\\\\n",
    "\\color{Cyan}(5) & 0 & 0 & 13 & 0 & 0 & 0 & 0 & 0 \\\\\n",
    "\\end{bmatrix} $\n",
    "\n",
    "$ L_p = \\begin{bmatrix}\n",
    "& \\color{Cyan}x^0 & \\color{Cyan}x^1 & \\color{Cyan}x^2 & \\color{Cyan}x^3 & \\color{Cyan}x^4 \\\\\n",
    "\\color{Cyan}1 & 0 & 0 & 0 & 0 & 0 \\\\\n",
    "\\color{Cyan}out & 0 & 0 & 0 & 0 & 0 \\\\\n",
    "\\color{Cyan}x & 68 & 11 & 24 & 50 & 61 \\\\\n",
    "\\color{Cyan}y & 61 & 6 & 2 & 14 & 59 \\\\\n",
    "\\color{Cyan}v_1 & 51 & 17 & 20 & 31 & 23 \\\\\n",
    "\\color{Cyan}v_2 & 0 & 0 & 0 & 0 & 0 \\\\\n",
    "\\color{Cyan}v_3 & 0 & 0 & 0 & 0 & 0 \\\\\n",
    "\\color{Cyan}v_4 & 0 & 0 & 0 & 0 & 0\n",
    "\\end{bmatrix} $\n",
    "\n",
    "$ L_p(x) = \\begin{bmatrix}\n",
    "& \\color{Cyan}L_p(1) & \\color{Cyan}L_p(2) & \\color{Cyan}L_p(3) & \\color{Cyan}L_p(4) & \\color{Cyan}L_p(5) \\\\\n",
    "\\color{Cyan}1 & 0 & 0 & 0 & 0 & 0 \\\\\n",
    "\\color{Cyan}out & 0 & 0 & 0 & 0 & 0 \\\\\n",
    "\\color{Cyan}x & 1 & 0 & 5 & 0 & 13 \\\\\n",
    "\\color{Cyan}y & 0 & 1 & 0 & 0 & 0 \\\\\n",
    "\\color{Cyan}v_1 & 0 & 0 & 0 & 4 & 0 \\\\\n",
    "\\color{Cyan}v_2 & 0 & 0 & 0 & 0 & 0 \\\\\n",
    "\\color{Cyan}v_3 & 0 & 0 & 0 & 0 & 0 \\\\\n",
    "\\color{Cyan}v_4 & 0 & 0 & 0 & 0 & 0\n",
    "\\end{bmatrix} $"
   ]
  },
  {
   "cell_type": "code",
   "execution_count": 20,
   "metadata": {},
   "outputs": [
    {
     "name": "stdout",
     "output_type": "stream",
     "text": [
      "n: 8, d: 5\n"
     ]
    }
   ],
   "source": [
    "# num witnesses\n",
    "m = O.shape[1]\n",
    "# num constraints\n",
    "d = O.shape[0]\n",
    "\n",
    "print(f\"m: {m}, d: {d}\")"
   ]
  },
  {
   "cell_type": "code",
   "execution_count": 47,
   "metadata": {},
   "outputs": [],
   "source": [
    "poly_m = []\n",
    "\n",
    "# iterate over the matrixes\n",
    "for M in [L, R, O]:\n",
    "    poly_list = []\n",
    "    # iterate over the columns (witnesses)\n",
    "    for i in range(0, m):\n",
    "        # there must be `d` number of pairs (x, y) to interpolate\n",
    "        # one for each constraint\n",
    "        points_x = FP(np.zeros(d, dtype=int))\n",
    "        points_y = FP(np.zeros(d, dtype=int))\n",
    "        # iterate over the rows (constraints)\n",
    "        for j in range(0, d):\n",
    "            # x coordinate is the index of the row + 1\n",
    "            points_x[j] = FP(j + 1)\n",
    "            # y coordinate is the value of the matrix at (i, j)\n",
    "            points_y[j] = M[j][i]\n",
    "\n",
    "        # making polynomial interpolation (must be d-1 degree polynomial, since we have d points)\n",
    "        poly = galois.lagrange_poly(points_x, points_y)\n",
    "        # we need only the coefficients of the polynomial (in ascending order, c0*x^0, c1*x^1, ...)\n",
    "        coeffs = poly.coefficients(order=\"asc\")\n",
    "        \n",
    "        # if the polynomial is smaller than d, append zeros for higher coefficients\n",
    "        if len(coeffs) < d:\n",
    "            coeffs = np.append(coeffs, np.zeros(d - len(coeffs), dtype=int))\n",
    "        \n",
    "        poly_list.append(coeffs)\n",
    "    \n",
    "    poly_m.append(FP(poly_list))\n",
    "\n",
    "Lp = poly_m[0]\n",
    "Rp = poly_m[1]\n",
    "Op = poly_m[2]"
   ]
  },
  {
   "cell_type": "code",
   "execution_count": 48,
   "metadata": {},
   "outputs": [],
   "source": [
    "# evaluating check\n",
    "for k, v in [(Lp, L), (Rp, R), (Op, O)]:\n",
    "    # iterate over witnesses\n",
    "    for i in range(m):\n",
    "        # making polynomial from coefficients corresponding to the witness\n",
    "        poly = galois.Poly(k[i], order=\"asc\")\n",
    "        # iterate over constraints\n",
    "        for j in range(d):\n",
    "            # the polynomial must evaluate to the same value as the matrix at j constraint and i witness\n",
    "            assert(poly(j + 1) == v[j][i])"
   ]
  },
  {
   "cell_type": "markdown",
   "metadata": {},
   "source": [
    "$\\left\\langle u \\right\\rangle_{1\\text{x}d} = \\left\\langle s \\right\\rangle_{1\\text{x}m} \\otimes \\left\\langle L_p \\right\\rangle_{m\\text{x}d} = \\begin{bmatrix}\n",
    "\\color{Cyan}x^0 & \\color{Cyan}x^1 & \\color{Cyan}\\cdots & \\color{Cyan}x^{d-1} \\\\\n",
    "\\sum_{i=0}^{m-1}s_i L_{p_{i,0}} & \\sum_{i=0}^{m-1}s_i L_{p_{i,1}} & \\cdots & \\sum_{i=0}^{m-1}s_i L_{p_{i,d-1}}  \n",
    "\\end{bmatrix}\\\\$\n",
    "\n",
    "$U(x) = \\sum_{i=0}^{d-1}u_i*x^i\\\\$\n",
    "\n",
    "$V(x) = \\sum_{i=0}^{d-1}v_i*x^i\\\\$\n",
    "\n",
    "$W(x) = \\sum_{i=0}^{d-1}w_i*x^i\\\\$"
   ]
  },
  {
   "cell_type": "markdown",
   "metadata": {},
   "source": [
    "Example:\n",
    "\n",
    "$\\left\\langle u \\right\\rangle_{1 \\text{x} d} = \n",
    "\\begin{bmatrix}\n",
    "\\color{Cyan}1 & \\color{Cyan}out & \\color{Cyan}x & \\color{Cyan}y & \\color{Cyan}v_1 & \\color{Cyan}v_2 & \\color{Cyan}v_3 & \\color{Cyan}v_4 \\\\\n",
    "1 & 33 & 2 & 3 & 4 & 9 & 40 &  2\n",
    "\\end{bmatrix} \\otimes \\begin{bmatrix}\n",
    "& \\color{Cyan}x^0 & \\color{Cyan}x^1 & \\color{Cyan}x^2 & \\color{Cyan}x^3 & \\color{Cyan}x^4 \\\\\n",
    "\\color{Cyan}1 & 0 & 0 & 0 & 0 & 0 \\\\\n",
    "\\color{Cyan}out & 0 & 0 & 0 & 0 & 0 \\\\\n",
    "\\color{Cyan}x & 68 & 11 & 24 & 50 & 61 \\\\\n",
    "\\color{Cyan}y & 61 & 6 & 2 & 14 & 59 \\\\\n",
    "\\color{Cyan}v_1 & 51 & 17 & 20 & 31 & 23 \\\\\n",
    "\\color{Cyan}v_2 & 0 & 0 & 0 & 0 & 0 \\\\\n",
    "\\color{Cyan}v_3 & 0 & 0 & 0 & 0 & 0 \\\\\n",
    "\\color{Cyan}v_4 & 0 & 0 & 0 & 0 & 0\n",
    "\\end{bmatrix} = \\begin{bmatrix}\n",
    "\\color{Cyan}x^0 & \\color{Cyan}x^1 & \\color{Cyan}x^2 & \\color{Cyan}x^3 & \\color{Cyan}x^4 \\\\\n",
    "26 & 37 & 63 & 53 & 36\n",
    "\\end{bmatrix}\\\\$\n",
    "\n",
    "$U(x) = 36x^4 + 53x^3 + 63x^2 + 37x + 26$"
   ]
  },
  {
   "cell_type": "code",
   "execution_count": 49,
   "metadata": {},
   "outputs": [
    {
     "name": "stdout",
     "output_type": "stream",
     "text": [
      "U =  36x^4 + 53x^3 + 63x^2 + 37x + 26\n",
      "V =  32x^4 + 12x^3 + 51x^2 + 65x + 55\n",
      "W =  24x^4 + 40x^3 + 25x^2 + 57\n"
     ]
    }
   ],
   "source": [
    "U = galois.Poly(np.matmul(s, Lp), order=\"asc\")\n",
    "V = galois.Poly(np.matmul(s, Rp), order=\"asc\")\n",
    "W = galois.Poly(np.matmul(s, Op), order=\"asc\")\n",
    "\n",
    "print(\"U = \", U)\n",
    "print(\"V = \", V)\n",
    "print(\"W = \", W)"
   ]
  },
  {
   "cell_type": "code",
   "execution_count": 50,
   "metadata": {},
   "outputs": [],
   "source": [
    "# check if the polynomials evaluate to the correct value at x = 1..d (for every constraint)\n",
    "for M, poly in [(Ls, U), (Rs, V), (Os, W)]:\n",
    "    for i in range(d):\n",
    "        assert (M[i] == poly(i + 1))"
   ]
  },
  {
   "cell_type": "markdown",
   "metadata": {},
   "source": [
    "$U(x) * V(x) - W(x) = T(x) * H(x)\\\\$\n",
    "\n",
    "$T(x) = (x - x_1)(x - x_2)...(x - x_d)\\\\$\n",
    "\n",
    "$H(x) = \\frac{U(x) \\cdot V(x) - W(x)}{T(x)}\\\\$"
   ]
  },
  {
   "cell_type": "code",
   "execution_count": 51,
   "metadata": {},
   "outputs": [],
   "source": [
    "# Making target polynomial. We need a polynomial that evaluates to 0 at x = 1..d: (x-1)(x-2)...(x-d)\n",
    "T = galois.Poly([1, p-1], field=FP)\n",
    "for i in range(2, d + 1):\n",
    "    T *= galois.Poly([1, p-i], field=FP)"
   ]
  },
  {
   "cell_type": "code",
   "execution_count": 53,
   "metadata": {},
   "outputs": [
    {
     "name": "stdout",
     "output_type": "stream",
     "text": [
      "H = 16x^3 + 25x^2 + 24x + 14\n"
     ]
    }
   ],
   "source": [
    "H = (U * V - W) // T\n",
    "rem = (U * V - W) % T\n",
    "\n",
    "print(\"H =\", H)\n",
    "\n",
    "assert rem == 0, \"must not be the remainder\"\n",
    "\n",
    "tau = FP(20)\n",
    "assert U(tau) * V(tau) - W(tau) == H(tau) * T(tau)"
   ]
  }
 ],
 "metadata": {
  "kernelspec": {
   "display_name": "Python 3",
   "language": "python",
   "name": "python3"
  },
  "language_info": {
   "codemirror_mode": {
    "name": "ipython",
    "version": 3
   },
   "file_extension": ".py",
   "mimetype": "text/x-python",
   "name": "python",
   "nbconvert_exporter": "python",
   "pygments_lexer": "ipython3",
   "version": "3.10.13"
  }
 },
 "nbformat": 4,
 "nbformat_minor": 2
}
