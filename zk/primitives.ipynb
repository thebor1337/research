{
 "cells": [
  {
   "cell_type": "markdown",
   "metadata": {},
   "source": [
    "EC Pairings"
   ]
  },
  {
   "cell_type": "code",
   "execution_count": 15,
   "metadata": {},
   "outputs": [],
   "source": [
    "from py_ecc.bn128.bn128_curve import multiply, G1, G2, add, eq, neg\n",
    "from py_ecc.bn128.bn128_pairing import pairing"
   ]
  },
  {
   "cell_type": "code",
   "execution_count": 8,
   "metadata": {},
   "outputs": [
    {
     "name": "stdout",
     "output_type": "stream",
     "text": [
      "(1, 2)\n",
      "((10857046999023057135944570762232829481370756359578518086990519993285655852781, 11559732032986387107991004021392285783925812861821192530917403151452391805634), (8495653923123431417604973247489272438418190587263600148770280649306958101930, 4082367875863433681332203403145435568316851327593401208105741076214120093531))\n"
     ]
    }
   ],
   "source": [
    "print(G1)\n",
    "print(G2)"
   ]
  },
  {
   "cell_type": "code",
   "execution_count": 9,
   "metadata": {},
   "outputs": [
    {
     "name": "stdout",
     "output_type": "stream",
     "text": [
      "True\n",
      "True\n"
     ]
    }
   ],
   "source": [
    "print(eq(add(G1, G1), multiply(G1, 2)))\n",
    "print(eq(add(G2, G2), multiply(G2, 2)))"
   ]
  },
  {
   "cell_type": "code",
   "execution_count": 10,
   "metadata": {},
   "outputs": [
    {
     "name": "stdout",
     "output_type": "stream",
     "text": [
      "(2737733771970589720147436295258995541017562764748775046990018238171083065584, 7355949162177082646197064865377481127039528955264110892670278171102027012957, 1389120597320745437757553030085914762401499323567753964656133081964131780715, 4070774491543958907062047566637569178763974576144707726129772744684275725184, 10823414137019623021013733227099721415368303324105358213304652659949682568395, 12697986880222911287030392175914090722292212037466224705879408804162602333706, 17697943997237703208660786428217562403504798830995307420075922564993565300645, 2702065915136914071855531840006964465333491722231468583849464437921405019853, 6762652910450025398171695126080749677225757293012137750262928324249233167133, 9495821522287762858490254871883860235240788822777455638443279749602676973720, 17813117134675140440034537765301248350834713246854720915775731738875700896539, 21027635025043266481235488683404016989778194881701554135606154029160033599034)\n"
     ]
    }
   ],
   "source": [
    "A = multiply(G2, 5)\n",
    "B = multiply(G1, 6)\n",
    "\n",
    "print(pairing(A, B))"
   ]
  },
  {
   "cell_type": "code",
   "execution_count": 14,
   "metadata": {},
   "outputs": [
    {
     "data": {
      "text/plain": [
       "True"
      ]
     },
     "execution_count": 14,
     "metadata": {},
     "output_type": "execute_result"
    }
   ],
   "source": [
    "A = multiply(G2, 6)\n",
    "B = multiply(G1, 5)\n",
    "C = multiply(G2, 5 * 6)\n",
    "\n",
    "pairing(A, B) == pairing(C, G1)"
   ]
  },
  {
   "cell_type": "markdown",
   "metadata": {},
   "source": [
    "Encrypted Polynomial Evaluation"
   ]
  },
  {
   "cell_type": "code",
   "execution_count": 17,
   "metadata": {},
   "outputs": [],
   "source": [
    "# Prover wants to prove that he knows the solution for: x^3 - 4x^2 + 3x - 1 = 39\n",
    "\n",
    "# The solution is 5\n",
    "x = 5\n",
    "\n",
    "# The prover encrypts the solution\n",
    "X3 = multiply(G1, 5**3) # x^3\n",
    "X2 = multiply(G1, 5**2) # x^2\n",
    "X = multiply(G1, 5) # x^1\n",
    "\n",
    "# The verifier checks if 39 = x^3 - 4x^2 + 3x - 1 using the prover's encrypted solution:\n",
    "# 39 = X3 - 4*X2 + 3*X - 1\n",
    "left_hand_side = multiply(G1, 39)\n",
    "right_hand_side = add(\n",
    "    add(\n",
    "        add(\n",
    "            multiply(X3, 1),\n",
    "            multiply(neg(X2), 4)\n",
    "        ),\n",
    "        multiply(X, 3)\n",
    "    ),\n",
    "    multiply(neg(G1), 1)\n",
    ")\n",
    "\n",
    "assert eq(left_hand_side, right_hand_side), \"lhs ≠ rhs\""
   ]
  },
  {
   "cell_type": "code",
   "execution_count": null,
   "metadata": {},
   "outputs": [],
   "source": []
  }
 ],
 "metadata": {
  "kernelspec": {
   "display_name": "Python 3",
   "language": "python",
   "name": "python3"
  },
  "language_info": {
   "codemirror_mode": {
    "name": "ipython",
    "version": 3
   },
   "file_extension": ".py",
   "mimetype": "text/x-python",
   "name": "python",
   "nbconvert_exporter": "python",
   "pygments_lexer": "ipython3",
   "version": "3.10.13"
  }
 },
 "nbformat": 4,
 "nbformat_minor": 2
}
